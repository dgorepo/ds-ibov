{
  "nbformat": 4,
  "nbformat_minor": 0,
  "metadata": {
    "colab": {
      "name": "ds_ibov.ipynb",
      "provenance": [],
      "authorship_tag": "ABX9TyMj3XVEiVQkVC5AJCal9NXs",
      "include_colab_link": true
    },
    "kernelspec": {
      "name": "python3",
      "display_name": "Python 3"
    },
    "language_info": {
      "name": "python"
    }
  },
  "cells": [
    {
      "cell_type": "markdown",
      "metadata": {
        "id": "view-in-github",
        "colab_type": "text"
      },
      "source": [
        "<a href=\"https://colab.research.google.com/github/diegomoal/ds-ibov/blob/main/ds_ibov.ipynb\" target=\"_parent\"><img src=\"https://colab.research.google.com/assets/colab-badge.svg\" alt=\"Open In Colab\"/></a>"
      ]
    },
    {
      "cell_type": "code",
      "metadata": {
        "id": "U753Z4pz0cfM"
      },
      "source": [
        "!pip install yfinance\n",
        "!pip install investpy"
      ],
      "execution_count": null,
      "outputs": []
    },
    {
      "cell_type": "code",
      "metadata": {
        "id": "AaAP3IIl0kvc"
      },
      "source": [
        "import yfinance as yf\n",
        "import investpy as ip\n",
        "import pandas as pd\n",
        "import numpy as np\n",
        "import pandas_datareader as web\n",
        "import seaborn as sns\n",
        "import matplotlib.pyplot as plt\n",
        "from datetime import date, timedelta"
      ],
      "execution_count": null,
      "outputs": []
    },
    {
      "cell_type": "code",
      "metadata": {
        "id": "PIPpbNQz00oU"
      },
      "source": [
        "# lista de ativos\n",
        "lista_ativos = ['WEGE3.SA', 'LREN3.SA',\n",
        "                'MGLU3.SA', 'VALE3.SA',\n",
        "                'RENT3.SA', 'PRIO3.SA']"
      ],
      "execution_count": null,
      "outputs": []
    },
    {
      "cell_type": "code",
      "metadata": {
        "id": "XTnyRsMp1DJg"
      },
      "source": [
        "# Utilizando loop para extrair os valores de precos de fechamento de todos os papeis\n",
        "df = pd.DataFrame()\n",
        "\n",
        "end_date = date.today() # Formato 'aaa-mm-dd'\n",
        "start_date = end_date - timedelta(days=2*365) # Formato 'aaa-mm-dd'\n",
        "\n",
        "for acoes in lista_ativos:\n",
        "    df[acoes] = yf.download(acoes, start=start_date, end=end_date)['Adj Close']"
      ],
      "execution_count": null,
      "outputs": []
    },
    {
      "cell_type": "code",
      "metadata": {
        "id": "TtLgFixB3sae"
      },
      "source": [
        "# Limpando o dataframe e plotando o primeiro gráfico\n",
        "df = df.dropna()\n",
        "df.plot(figsize=(20, 6), grid=True, colormap=\"Set1\")"
      ],
      "execution_count": null,
      "outputs": []
    },
    {
      "cell_type": "code",
      "metadata": {
        "id": "wvUiJORF-eMT"
      },
      "source": [
        "# Utilizando biblioteca seaborn para melhorar visualização\n",
        "sns.set()\n",
        "df.plot(subplots=True, figsize=(20,8))\n",
        "plt.show()"
      ],
      "execution_count": null,
      "outputs": []
    }
  ]
}